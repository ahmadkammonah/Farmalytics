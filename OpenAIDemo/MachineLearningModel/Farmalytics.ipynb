{
  "cells": [
    {
      "cell_type": "code",
      "execution_count": 4,
      "metadata": {
        "id": "ab7mVSbmxA8s"
      },
      "outputs": [],
      "source": [
        "# prompt: import every neccessary tools for data processing\n",
        "\n",
        "import pandas as pd\n",
        "import numpy as np\n",
        "import matplotlib.pyplot as plt\n",
        "import seaborn as sns\n"
      ]
    },
    {
      "cell_type": "code",
      "execution_count": 5,
      "metadata": {
        "id": "428OwMU6yTUh"
      },
      "outputs": [],
      "source": [
        "\n",
        "df = pd.read_csv('/content/nasa.csv')\n"
      ]
    },
    {
      "cell_type": "code",
      "execution_count": 6,
      "metadata": {
        "id": "sSMHypuZ4bv4"
      },
      "outputs": [],
      "source": [
        "\n",
        "df = df.drop(['SOIL_LANDSCPE_ID', 'RSN_CLASS_FR', 'PROV_PCT', 'RSN_CLASS', 'RSN_CLASS_EN'], axis=1)\n",
        "\n"
      ]
    },
    {
      "cell_type": "markdown",
      "source": [],
      "metadata": {
        "id": "meg43Vr2FyYC"
      }
    },
    {
      "cell_type": "markdown",
      "metadata": {
        "id": "xKUIUZEu4LXq"
      },
      "source": []
    },
    {
      "cell_type": "code",
      "execution_count": 7,
      "metadata": {
        "colab": {
          "base_uri": "https://localhost:8080/"
        },
        "id": "iSWdy9nA7xSL",
        "outputId": "09cb7329-fdea-48a3-de0d-ea4231fc9126"
      },
      "outputs": [
        {
          "output_type": "stream",
          "name": "stdout",
          "text": [
            "   YEAR PROVINCE  POLYGON_WEIGHT  RSN_VAL\n",
            "0  1981       BC          190.29    16.98\n",
            "1  1981       BC         1022.29    11.63\n",
            "2  1981       BC          162.88    16.89\n",
            "3  1981       BC          101.56    17.23\n",
            "4  1981       BC           33.42    11.84\n",
            "5  1981       AB         1402.54    -0.84\n",
            "6  1981       AB          303.55     3.99\n",
            "7  1981       BC          184.89    33.59\n",
            "8  1981       MB          131.02    15.59\n",
            "9  1981       ON          988.74     4.39\n"
          ]
        }
      ],
      "source": [
        "print(df.head(10))"
      ]
    },
    {
      "cell_type": "code",
      "source": [
        "import xgboost as xgb\n",
        "from sklearn.model_selection import train_test_split\n",
        "from sklearn.metrics import r2_score\n",
        "\n",
        "# Assuming 'RSN_VAL' is the target variable you want to predict\n",
        "X = df.drop('RSN_VAL', axis=1)\n",
        "y = df['RSN_VAL']\n",
        "\n",
        "# Convert categorical features to numerical using one-hot encoding if needed\n",
        "X = pd.get_dummies(X, dummy_na=True)\n",
        "\n",
        "# Split the data into training and testing sets\n",
        "X_train, X_test, y_train, y_test = train_test_split(X, y, test_size=0.2, random_state=42)\n",
        "\n",
        "# Create an XGBoost regressor\n",
        "model = xgb.XGBRegressor(objective='reg:squarederror')\n",
        "\n",
        "# Train the model\n",
        "model.fit(X_train, y_train)\n",
        "\n",
        "# Make predictions on the test set\n",
        "y_pred = model.predict(X_test)\n",
        "\n",
        "# Evaluate the model using R2 score\n",
        "r2 = r2_score(y_test, y_pred)\n",
        "#print(\"R2 Score:\", r2)\n",
        "\n",
        "# Prepare data for prediction for 2025 (assuming you have features for 2025)\n",
        "# Replace with your actual data for 2025\n",
        "X_2025 = pd.DataFrame({'YEAR': [2025], 'LATITUDE': [0], 'LONGITUDE': [0]})  # Example, replace with actual data\n",
        "X_2025 = pd.get_dummies(X_2025, dummy_na=True)\n",
        "X_2025 = X_2025.reindex(columns=X.columns, fill_value=0)\n",
        "\n",
        "# Predict RSN_VAL for 2025\n",
        "prediction_2025 = model.predict(X_2025)\n",
        "print(\"Predicted Nitrogen for 2025:\", prediction_2025)"
      ],
      "metadata": {
        "colab": {
          "base_uri": "https://localhost:8080/"
        },
        "id": "ek9NTbSCh-d0",
        "outputId": "4e65be49-89c4-4392-9765-3d48cee90bb0"
      },
      "execution_count": 8,
      "outputs": [
        {
          "output_type": "stream",
          "name": "stdout",
          "text": [
            "Predicted Nitrogen for 2025: [35.428436]\n"
          ]
        }
      ]
    }
  ],
  "metadata": {
    "colab": {
      "provenance": []
    },
    "kernelspec": {
      "display_name": "Python 3",
      "name": "python3"
    },
    "language_info": {
      "name": "python"
    }
  },
  "nbformat": 4,
  "nbformat_minor": 0
}